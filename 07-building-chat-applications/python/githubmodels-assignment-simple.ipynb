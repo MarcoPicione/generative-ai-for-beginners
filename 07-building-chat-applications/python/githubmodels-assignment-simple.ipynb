{
 "cells": [
  {
   "cell_type": "code",
   "execution_count": 1,
   "metadata": {},
   "outputs": [],
   "source": [
    "import os\n",
    "from azure.ai.inference import ChatCompletionsClient\n",
    "from azure.ai.inference.models import SystemMessage, UserMessage\n",
    "from azure.core.credentials import AzureKeyCredential\n",
    "\n",
    "token = os.environ[\"GITHUB_TOKEN\"]\n",
    "endpoint = \"https://models.inference.ai.azure.com\"\n",
    "\n",
    "client = ChatCompletionsClient(\n",
    "    endpoint=endpoint,\n",
    "    credential=AzureKeyCredential(token),\n",
    ")\n",
    "\n",
    "model_name = \"gpt-4o\""
   ]
  },
  {
   "cell_type": "code",
   "execution_count": 2,
   "metadata": {},
   "outputs": [
    {
     "data": {
      "text/plain": [
       "\"I'm sorry to hear about your foot pain! As a surgeon, I can give you some general guidance, but I want to stress that diagnosing the exact cause of your pain requires a thorough evaluation, including a physical examination, imaging (such as X-rays or MRI), and a detailed medical history. That being said, here are some common reasons for foot pain:\\n\\n---\\n\\n### **1. Trauma or Injury**\\n- **Fractures**: A broken bone can cause localized pain, swelling, and difficulty bearing weight.\\n- **Sprains/Strains**: Injuries to ligaments, tendons, or muscles can result in pain and swelling.\\n- **Bruising**: If you've bumped or dropped something on your foot, localized bruising and tenderness can occur.\\n\\n---\\n\\n### **2. Overuse or Repetitive Stress**\\n- **Stress Fractures**: These are small cracks in the bone caused by repetitive activities like running.\\n- **Plantar Fasciitis**: Pain in the heel or arch, especially first thing in the morning, can indicate inflammation of the plantar fascia ligament.\\n- **Achilles Tendinitis**: Pain at the back of the heel due to overuse of the Achilles tendon.\\n\\n---\\n\\n### **3. Joint Problems**\\n- **Arthritis**: Osteoarthritis or inflammatory arthritis (like rheumatoid arthritis or gout) can cause stiffness and joint pain in the foot.\\n- **Bunions**: A painful, bony bump that develops at the base of the big toe due to joint misalignment.\\n\\n---\\n\\n### **4. Nerve-related Conditions**\\n- **Neuroma**: A pinched or irritated nerve, often between the toes, can cause burning, tingling, or shooting pain.\\n- **Tarsal Tunnel Syndrome**: Similar to carpal tunnel in the hand; this involves compression of a nerve in the ankle causing foot pain or numbness.\\n\\n---\\n\\n### **5. Infections or Skin Issues**\\n- **Ingrown Toenail**: Redness, swelling, and pain may indicate an embedded toenail.\\n- **Athlete's Foot**: A fungal infection causing itching, redness, and peeling.\\n- **Cellulitis**: A bacterial skin infection that causes redness, warmth, and swelling.\\n\\n---\\n\\n### **6. Circulatory Issues**\\n- **Peripheral Artery Disease (PAD)**: Poor blood flow can cause foot pain, especially when walking or exercising.\\n- **Deep Vein Thrombosis (DVT)**: While less common in the foot, a blood clot can cause pain and swelling.\\n\\n---\\n\\n### **7. Structural or Mechanical Issues**\\n- **Flat Feet/High Arches**: These structural issues can cause strain and pain due to poor alignment.\\n- **Morton’s Neuroma**: A painful condition affecting the ball of the foot, often felt as a pebble in your shoe.\\n\\n---\\n\\n### When to Seek Medical Attention:\\nYou should see a doctor if:\\n- The pain is severe or worsening.\\n- You’re unable to bear weight or walk on the foot.\\n- There’s significant swelling, bruising, or deformity.\\n- There are signs of infection (redness, warmth, pus, or fever).\\n- You've had a recent injury and suspect a fracture or sprain.\\n\\n---\\n\\n### In the Meantime:\\n- Rest and avoid putting pressure on the foot.\\n- Ice the area for 15–20 minutes at a time to reduce pain and swelling.\\n- Elevate the foot and consider over-the-counter pain relievers like ibuprofen or acetaminophen (if appropriate for you).\\n- Use supportive footwear.\\n\\n---\\n\\nPlease visit a healthcare professional promptly to determine the exact cause and start the right treatment for your foot pain. Wishing you a speedy recovery!\""
      ]
     },
     "execution_count": 2,
     "metadata": {},
     "output_type": "execute_result"
    }
   ],
   "source": [
    "# Create your first prompt\n",
    "text_prompt = \" My foot hurts, what can be wrong?\"\n",
    "\n",
    "response = client.complete(\n",
    "  model=model_name,\n",
    "  messages = [\n",
    "      {\"role\":\"system\", \"content\":\"I'm a doctor, specialist on surgery\"},\n",
    "      {\"role\":\"user\",\"content\":text_prompt},])\n",
    "\n",
    "response.choices[0].message.content"
   ]
  }
 ],
 "metadata": {
  "kernelspec": {
   "display_name": "Python 3",
   "language": "python",
   "name": "python3"
  },
  "language_info": {
   "codemirror_mode": {
    "name": "ipython",
    "version": 3
   },
   "file_extension": ".py",
   "mimetype": "text/x-python",
   "name": "python",
   "nbconvert_exporter": "python",
   "pygments_lexer": "ipython3",
   "version": "3.10.13"
  },
  "orig_nbformat": 4
 },
 "nbformat": 4,
 "nbformat_minor": 2
}
