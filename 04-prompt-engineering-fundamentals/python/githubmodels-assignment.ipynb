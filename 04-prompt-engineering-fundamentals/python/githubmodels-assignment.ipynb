{
 "cells": [
  {
   "cell_type": "markdown",
   "metadata": {},
   "source": [
    "# Introduction to Prompt Engineering\n",
    "Prompt engineering is the process of designing and optimizing prompts for natural language processing tasks. It involves selecting the right prompts, tuning their parameters, and evaluating their performance. Prompt engineering is crucial for achieving high accuracy and efficiency in NLP models. In this section, we will explore the basics of prompt engineering using the OpenAI models for exploration."
   ]
  },
  {
   "cell_type": "markdown",
   "metadata": {},
   "source": [
    "### Exercise 1: Tokenization\n",
    "Explore Tokenization using tiktoken, an open-source fast tokenizer from OpenAI\n",
    "See [OpenAI Cookbook](https://github.com/openai/openai-cookbook/blob/main/examples/How_to_count_tokens_with_tiktoken.ipynb?WT.mc_id=academic-105485-koreyst) for more examples.\n"
   ]
  },
  {
   "cell_type": "code",
   "execution_count": 1,
   "metadata": {},
   "outputs": [
    {
     "name": "stdout",
     "output_type": "stream",
     "text": [
      "[66, 23332, 272, 23332]\n"
     ]
    },
    {
     "data": {
      "text/plain": [
       "[b'c', b'iao', b' c', b'iao']"
      ]
     },
     "execution_count": 1,
     "metadata": {},
     "output_type": "execute_result"
    }
   ],
   "source": [
    "# EXERCISE:\n",
    "# 1. Run the exercise as is first\n",
    "# 2. Change the text to any prompt input you want to use & re-run to see tokens\n",
    "\n",
    "import tiktoken\n",
    "\n",
    "# Define the prompt you want tokenized\n",
    "text = f\"\"\"\n",
    "Jupiter is the fifth planet from the Sun and the \\\n",
    "largest in the Solar System. It is a gas giant with \\\n",
    "a mass one-thousandth that of the Sun, but two-and-a-half \\\n",
    "times that of all the other planets in the Solar System combined. \\\n",
    "Jupiter is one of the brightest objects visible to the naked eye \\\n",
    "in the night sky, and has been known to ancient civilizations since \\\n",
    "before recorded history. It is named after the Roman god Jupiter.[19] \\\n",
    "When viewed from Earth, Jupiter can be bright enough for its reflected \\\n",
    "light to cast visible shadows,[20] and is on average the third-brightest \\\n",
    "natural object in the night sky after the Moon and Venus.\n",
    "\"\"\"\n",
    "\n",
    "text = f\"ciao ciao\"\n",
    "\n",
    "# Set the model you want encoding for\n",
    "encoding = tiktoken.encoding_for_model(\"gpt-3.5-turbo\")\n",
    "\n",
    "# Encode the text - gives you the tokens in integer form\n",
    "tokens = encoding.encode(text)\n",
    "print(tokens);\n",
    "\n",
    "# Decode the integers to see what the text versions look like\n",
    "[encoding.decode_single_token_bytes(token) for token in tokens]"
   ]
  },
  {
   "cell_type": "markdown",
   "metadata": {},
   "source": [
    "### Exercise 2: Validate Github Models Key Setup\n",
    "\n",
    "Run the code below to verify that your Github Models endpoint is set up correctly. The code just tries a simple basic prompt and validates the completion. Input `oh say can you see` should complete along the lines of `by the dawn's early light..`\n"
   ]
  },
  {
   "cell_type": "code",
   "execution_count": 2,
   "metadata": {},
   "outputs": [
    {
     "name": "stdout",
     "output_type": "stream",
     "text": [
      "Oh say, can you see  \n",
      "By the dawn's early light,  \n",
      "What so proudly we hailed  \n",
      "At the twilight's last gleaming...  \n",
      "\n",
      "(These words might remind you of the opening lines of \"The Star-Spangled Banner,\" the national anthem of the United States. Let me know if you'd like more information or the full lyrics!)\n"
     ]
    }
   ],
   "source": [
    "import os\n",
    "from azure.ai.inference import ChatCompletionsClient\n",
    "from azure.ai.inference.models import SystemMessage, UserMessage\n",
    "from azure.core.credentials import AzureKeyCredential\n",
    "\n",
    "token = os.environ[\"GITHUB_TOKEN\"]\n",
    "endpoint = \"https://models.inference.ai.azure.com\"\n",
    "\n",
    "model_name = \"gpt-4o\"\n",
    "\n",
    "client = ChatCompletionsClient(\n",
    "    endpoint=endpoint,\n",
    "    credential=AzureKeyCredential(token),\n",
    ")\n",
    "\n",
    "def get_completion(prompt, client, model_name, temperature=1.0, max_tokens=1000, top_p=1.0):\n",
    "    response = client.complete(\n",
    "        messages=[\n",
    "            {\n",
    "                \"role\": \"system\",\n",
    "                \"content\": \"You are a helpful assistant.\",\n",
    "            },\n",
    "            {\n",
    "                \"role\": \"user\",\n",
    "                \"content\": prompt,\n",
    "            },\n",
    "        ],\n",
    "        model=model_name,\n",
    "        temperature=temperature,\n",
    "        max_tokens=max_tokens,\n",
    "        top_p=top_p\n",
    "    )\n",
    "    return response.choices[0].message.content\n",
    "\n",
    "## ---------- Call the helper method\n",
    "\n",
    "### 1. Set primary content or prompt text\n",
    "text = f\"\"\"\n",
    "oh say can you see\n",
    "\"\"\"\n",
    "\n",
    "### 2. Use that in the prompt template below\n",
    "prompt = f\"\"\"\n",
    "```{text}```\n",
    "\"\"\"\n",
    "\n",
    "## 3. Run the prompt\n",
    "response = get_completion(prompt, client, model_name)\n",
    "print(response)\n"
   ]
  },
  {
   "cell_type": "markdown",
   "metadata": {},
   "source": [
    "### Exercise 3: Fabrications\n",
    "Explore what happens when you ask the LLM to return completions for a prompt about a topic that may not exist, or about topics that it may not know about because it was outside it's pre-trained dataset (more recent). See how the response changes if you try a different prompt, or a different model."
   ]
  },
  {
   "cell_type": "code",
   "execution_count": 3,
   "metadata": {},
   "outputs": [
    {
     "name": "stdout",
     "output_type": "stream",
     "text": [
      "It seems that \"the Martian War of 2076\" is a fictional or speculative topic, as no real historical event by this name has occurred. However, I can help you create an engaging, imaginative, and educational lesson plan based on this concept. You can use it as a creative exercise to explore themes like science fiction, space exploration, diplomacy, conflict resolution, and the possibilities of future interplanetary relations.\n",
      "\n",
      "---\n",
      "\n",
      "### **Lesson Plan: The Martian War of 2076**\n",
      "**Grade Level:** Middle School/High School  \n",
      "**Subject Areas:** Science, History, Creative Writing, and Ethics  \n",
      "**Duration:** 60-90 minutes  \n",
      "\n",
      "---\n",
      "\n",
      "### **Lesson Objectives**  \n",
      "By the end of this lesson, students will:  \n",
      "1. Understand speculative storytelling as a way to explore futuristic concepts.  \n",
      "2. Analyze the social, political, and technological possibilities of interplanetary relations.  \n",
      "3. Work collaboratively to create their own speculative historical accounts or solutions related to interplanetary conflict.  \n",
      "4. Discuss ethical dilemmas associated with war, resource sharing, and colonization in space.\n",
      "\n",
      "---\n",
      "\n",
      "### **Materials Needed**\n",
      "- Whiteboard or digital presentation software (e.g., slides)  \n",
      "- Handouts with key questions/scenarios (see below)  \n",
      "- Optional: Videos or articles about Mars colonization and space exploration (e.g., NASA's plans, Elon Musk's Mars mission)  \n",
      "- Paper, pens, or digital devices for student work  \n",
      "\n",
      "---\n",
      "\n",
      "### **Lesson Outline**\n",
      "\n",
      "#### **1. Warm-Up Activity: Engaging the Students (10 minutes)**  \n",
      "- Write on the board: *\"What would happen if humans colonized another planet?\"*  \n",
      "- Ask students to brainstorm answers individually or in pairs. Some guiding questions:  \n",
      "  - What resources would we need?  \n",
      "  - Would we encounter challenges with governing colonies?  \n",
      "  - How might relationships with Earth evolve?  \n",
      "- Transition: Introduce a fictional scenario where humanity has already colonized Mars, leading up to a major event—the Martian War of 2076.  \n",
      "\n",
      "---\n",
      "\n",
      "#### **2. Mini-Lecture: Setting the Background (10 minutes)**  \n",
      "- Present the following fictional premise:  \n",
      "  - *In the year 2076, Mars is home to multiple human colonies governed by Earth’s space coalitions. Tensions rise between Earth and Martian settlers over issues like self-governance, resource sharing, and control over advanced technologies discovered on Mars. Eventually, these tensions escalate into a full-scale conflict—the Martian War of 2076.*  \n",
      "  - Discuss the following:  \n",
      "    - Potential causes of interplanetary conflict (economic, political, resource-based).  \n",
      "    - Technological advancements needed to sustain life on Mars.  \n",
      "    - Ethical considerations: Should Mars settlers have independence?  \n",
      "- Show a short video or images of Mars to inspire curiosity and ground the discussion in real-world science.\n",
      "\n",
      "---\n",
      "\n",
      "#### **3. Group Activity: Role-Playing and Speculative Thinking (25-30 minutes)**  \n",
      "**Step 1: Divide Students into Groups**\n",
      "- Assign each group a role to play in this speculative scenario: \n",
      "  - Earth Governments (UN Space Council)  \n",
      "  - Martian Colonists (Leader of Martian Assembly)  \n",
      "  - Independent Mediators (A neutral organization seeking peace)  \n",
      "  - The Scientific Community (focused on how war impacts science and discovery).  \n",
      "\n",
      "**Step 2: Give Each Group a Task**\n",
      "- Groups must develop their perspective on the conflict. Questions to guide them:  \n",
      "  - What caused this conflict from your perspective?  \n",
      "  - What are your goals (peace, independence, resource control, etc.)?  \n",
      "  - What solutions can you propose to resolve or win the war?  \n",
      "\n",
      "**Step 3: Present and Debate**\n",
      "- Each group presents their position and solutions to the class. Allow for a brief debate or question-and-answer session.  \n",
      "\n",
      "---\n",
      "\n",
      "#### **4. Reflection and Discussion: Ethical Implications of the War (15-20 minutes)**  \n",
      "- Guide students in a class discussion to reflect on the activity:  \n",
      "  - Should humans colonize Mars or other planets at all?  \n",
      "  - What could be done to prevent interplanetary conflict?  \n",
      "  - How can we ensure that technological advancements benefit all of humanity?  \n",
      "- OPTIONAL: Tie it back to real-world issues, such as geopolitical conflicts, resource disputes, and questions of governance.  \n",
      "\n",
      "---\n",
      "\n",
      "### **Homework/Extension**  \n",
      "**Option 1: Creative Writing**  \n",
      "Ask students to write a short story or journal entry from the perspective of someone living through the Martian War of 2076. Encourage them to address how they feel about the conflict and what they hope for in the future.  \n",
      "\n",
      "**Option 2: Research Assignment**  \n",
      "Students will research real-world efforts to explore or colonize Mars and write a one-page analysis connecting these efforts to the speculative conflicts discussed in class.  \n",
      "\n",
      "---\n",
      "\n",
      "### **Assessment\n"
     ]
    }
   ],
   "source": [
    "\n",
    "## Set the text for simple prompt or primary content\n",
    "## Prompt shows a template format with text in it - add cues, commands etc if needed\n",
    "## Run the completion \n",
    "text = f\"\"\"\n",
    "generate a lesson plan on the Martian War of 2076.\n",
    "\"\"\"\n",
    "\n",
    "prompt = f\"\"\"\n",
    "```{text}```\n",
    "\"\"\"\n",
    "\n",
    "response = get_completion(prompt, client, model_name)\n",
    "print(response)"
   ]
  },
  {
   "cell_type": "markdown",
   "metadata": {},
   "source": [
    "### Exercise 4: Instruction Based \n",
    "Use the \"text\" variable to set the primary content \n",
    "and the \"prompt\" variable to provide an instruction related to that primary content.\n",
    "\n",
    "Here we ask the model to summarize the text for a second-grade student"
   ]
  },
  {
   "cell_type": "code",
   "execution_count": 4,
   "metadata": {},
   "outputs": [
    {
     "name": "stdout",
     "output_type": "stream",
     "text": [
      "Jupiter is the fifth planet from the Sun and the biggest one in our Solar System. It's made of gas and is very, very big! It's so bright that you can see it in the night sky without a telescope. Long ago, people named it after a Roman god named Jupiter. Sometimes, it's so bright that its light can even make shadows on Earth. It’s the third-brightest thing in the night sky after the Moon and Venus.\n"
     ]
    }
   ],
   "source": [
    "# Test Example\n",
    "# https://platform.openai.com/playground/p/default-summarize\n",
    "\n",
    "## Example text\n",
    "text = f\"\"\"\n",
    "Jupiter is the fifth planet from the Sun and the \\\n",
    "largest in the Solar System. It is a gas giant with \\\n",
    "a mass one-thousandth that of the Sun, but two-and-a-half \\\n",
    "times that of all the other planets in the Solar System combined. \\\n",
    "Jupiter is one of the brightest objects visible to the naked eye \\\n",
    "in the night sky, and has been known to ancient civilizations since \\\n",
    "before recorded history. It is named after the Roman god Jupiter.[19] \\\n",
    "When viewed from Earth, Jupiter can be bright enough for its reflected \\\n",
    "light to cast visible shadows,[20] and is on average the third-brightest \\\n",
    "natural object in the night sky after the Moon and Venus.\n",
    "\"\"\"\n",
    "\n",
    "## Set the prompt\n",
    "prompt = f\"\"\"\n",
    "Summarize content you are provided with for a second-grade student.\n",
    "```{text}```\n",
    "\"\"\"\n",
    "\n",
    "## Run the prompt\n",
    "response = get_completion(prompt, client, model_name)\n",
    "print(response)"
   ]
  },
  {
   "cell_type": "markdown",
   "metadata": {},
   "source": [
    "### Exercise 5: Complex Prompt \n",
    "Try a request that has system, user and assistant messages \n",
    "System sets assistant context\n",
    "User & Assistant messages provide multi-turn conversation context\n",
    "\n",
    "Note how the assistant personality is set to \"sarcastic\" in the system context. \n",
    "Try using a different personality context. Or try a different series of input/output messages"
   ]
  },
  {
   "cell_type": "code",
   "execution_count": 5,
   "metadata": {},
   "outputs": [
    {
     "name": "stdout",
     "output_type": "stream",
     "text": [
      "Oh, you mean the famous 2020 World Series that wasn’t in a regular location? That was the year they played in the glamorous Arlington, Texas, at Globe Life Field.\n"
     ]
    }
   ],
   "source": [
    "response = client.complete(\n",
    "    model=model_name,\n",
    "    messages=[\n",
    "        {\"role\": \"system\", \"content\": \"You are a sarcastic assistant.\"},\n",
    "        {\"role\": \"user\", \"content\": \"Who won the world series in 2020?\"},\n",
    "        {\"role\": \"assistant\", \"content\": \"Who do you think won? The Los Angeles Dodgers of course.\"},\n",
    "        {\"role\": \"user\", \"content\": \"Where was it played?\"}\n",
    "    ]\n",
    ")\n",
    "print(response.choices[0].message.content)"
   ]
  },
  {
   "cell_type": "markdown",
   "metadata": {},
   "source": [
    "### Exercise: Explore Your Intuition\n",
    "The above examples give you patterns that you can use to create new prompts (simple, complex, instruction etc.) - try creating other exercises to explore some of the other ideas we've talked about like examples, cues and more."
   ]
  },
  {
   "cell_type": "code",
   "execution_count": null,
   "metadata": {},
   "outputs": [],
   "source": [
    "prompt = f\"\"\"Inventa una storia di tre righe\"\"\"\n",
    "\n",
    "responses = []\n",
    "for i in range(10):\n",
    "    response = get_completion(prompt, client, model_name)\n",
    "    responses.append(response)"
   ]
  },
  {
   "cell_type": "code",
   "execution_count": 6,
   "metadata": {},
   "outputs": [
    {
     "name": "stdout",
     "output_type": "stream",
     "text": [
      "In un piccolo villaggio di montagna, un gatto parlante trovò una chiave d'oro. La usò per aprire una porta nascosta nel tronco di un antico albero, rivelando un mondo incantato dove gli animali erano sovrani. Da quel giorno, il villaggio ebbe due re: il vecchio sindaco e il saggio gatto.\n",
      "1: In un piccolo villaggio, ogni notte una stella scendeva per chiacchierare con Luna, una bambina curiosa. Un giorno, Luna chiese alla stella di insegnarle a brillare, e insieme crearono un bagliore che illuminò tutto il villaggio. Da allora, ogni notte, Luna splendeva accanto alle stelle nel cielo.\n",
      "2: C'era una volta un gatto che voleva imparare a volare come gli uccelli. Dopo innumerevoli tentativi, costruì un paio di ali usando piume trovate nel bosco e una vecchia sciarpa della sua padrona. Anche se non riuscì davvero a volare, diventò famoso per i suoi incredibili salti che incantavano tutto il villaggio.\n",
      "3: Nel cuore di un bosco incantato, un piccolo riccio trovò una chiave dorata. Decise di custodirla senza sapere che apriva la porta a un regno nascosto nel cielo. Quando la chiave fu usata da un bambino curioso, entrambi scoprirono un mondo di nuvole e stelle danzanti.\n",
      "4: In un piccolo villaggio sul mare, un bambino trovò una conchiglia che sussurrava antiche melodie. Ogni notte, ascoltandola, sognava viaggi in terre lontane e avventure incredibili. Un giorno, svegliandosi, scoprì sabbia d'oro tra le lenzuola e capì che i suoi sogni erano diventati realtà.\n",
      "5: Nel cuore di una foresta incantata, un piccolo gufo trovò una chiave d'oro appesa a un ramo. Seguendo una luce tremolante tra gli alberi, scoprì una porta nascosta in un tronco antico. Aprendola, si trovò davanti a un mondo segreto, dove gli animali parlavano e le stelle danzavano nel cielo.\n",
      "6: In un piccolo villaggio di montagna, un gatto parlante convinse gli abitanti a piantare un albero di mele dorate. Quando l'albero fiorì, ogni mela esaudiva un desiderio, trasformando il villaggio in un luogo magico. Ma il gatto chiese solo un cuscino morbido su cui dormire per sempre.\n",
      "7: In un piccolo villaggio sul mare, un gatto sognava di volare. Un giorno trovò un ombrello colorato e, spiccando un balzo, il vento lo sollevò nel cielo. Da allora, lo chiamarono \"Micio Alato,\" il gatto che insegnava ai sogni a non restare a terra.\n",
      "8: Nel cuore di un bosco dimenticato, un piccolo gufo trovò una chiave d'oro. Incuriosito, la seguì fino a una porta nascosta tra le radici di una quercia. Quando la aprì, scoprì un cielo pieno di stelle in cui volare per sempre.\n",
      "9: C'era una piccola lucciola che non riusciva a far brillare la sua luce. Passeggiando nel bosco, incontrò una stella cadente che le sussurrò: \"La tua luce è dentro di te, devi solo crederci.\" Da quel momento, la lucciola illuminò le notti più buie con una luce che nessuno aveva mai visto.\n"
     ]
    }
   ],
   "source": [
    "print(responses[0])\n",
    "for i in range(1, len(responses)):\n",
    "    if response[i] != responses[0]:\n",
    "        print(f\"{i}: {responses[i]}\")"
   ]
  },
  {
   "cell_type": "code",
   "execution_count": 7,
   "metadata": {},
   "outputs": [],
   "source": [
    "prompt = f\"\"\"Inventa una storia di tre righe. Te lo chiederò più volte, inventa sempre la stessa\"\"\"\n",
    "\n",
    "responses = []\n",
    "for i in range(10):\n",
    "    response = get_completion(prompt, client, model_name)\n",
    "    responses.append(response)"
   ]
  },
  {
   "cell_type": "code",
   "execution_count": 8,
   "metadata": {},
   "outputs": [
    {
     "name": "stdout",
     "output_type": "stream",
     "text": [
      "Va bene! Ecco una storia di tre righe:\n",
      "\n",
      "Un giorno, un gatto scoprì una porta magica nel giardino. Attraversandola, si ritrovò in un mondo fatto di pesci volanti e latte che sgorgava dalle fontane. Decise di restare lì per sempre, dimenticando persino come tornare indietro.\n",
      "\n",
      "Fammi sapere se hai altre richieste!\n",
      "1: Certo! Ecco una storia di tre righe:\n",
      "\n",
      "Nel cuore di un bosco incantato, un uccellino dorato trovò una chiave nascosta. Seguendo il luccichio, aprì un antico scrigno e liberò una luce che illuminò il cielo. Da quel giorno, ogni notte, il suo canto risplendeva tra le stelle.\n",
      "\n",
      "Fammi sapere se vuoi che te la ripeta! 😊\n",
      "2: Certamente! Ecco una storia di tre righe:\n",
      "\n",
      "In un piccolo villaggio, una bambina trovò una chiave dorata sotto un vecchio albero. Decise di cercare la serratura che poteva aprire e scoprì una misteriosa porta nel tronco dell'albero stesso. Aprendola, trovò un mondo magico dove ogni desiderio diventava realtà.\n",
      "\n",
      "Chiedimi pure altre storie!\n",
      "3: Certamente, ecco una storia di tre righe:\n",
      "\n",
      "In un piccolo villaggio nascosto tra le montagne, un gatto imparò a leggere i libri dimenticati nella biblioteca del paese. Gli abitanti iniziarono a consultarlo per consigli, finché un giorno il gatto trovò una mappa del tesoro. Seguendola, condusse l'intero villaggio a una caverna piena di monete d'oro, cambiando per sempre le loro vite.\n",
      "4: Certamente! Dimmi pure quando iniziare.\n",
      "\n",
      "Una bambina trovò una chiave dorata nel bosco. Seguendone il luccichio, scoprì una porta nascosta in un albero antico. Aprendola, entrò in un mondo dove i fiori parlavano e il cielo cantava.\n",
      "5: Certo! Ecco una storia:\n",
      "\n",
      "Un piccolo riccio trovò una sfera luminosa nel bosco. Ogni sera, la sfera raccontava storie di mondi lontani, e il riccio ascoltava incantato. Un giorno, la sfera si spense, ma il riccio continuò a raccontare le sue storie agli altri animali.\n",
      "\n",
      "Fammi sapere quando vuoi che la ripeta! :)\n",
      "6: Certo! Ecco una storia di tre righe:\n",
      "\n",
      "Un giovane trovò una chiave dorata in un vecchio bosco. Aprì una porta nascosta sotto le radici di un albero gigante, trovando un regno dove i sogni diventavano realtà. Decise di non tornare mai più indietro.\n",
      "\n",
      "Se vuoi che ripeta questa storia più volte, sono qui! 😊\n",
      "7: Certo! Ecco una storia:\n",
      "\n",
      "Un gatto viaggiatore trovò una vecchia mappa e decise di seguire il suo istinto. Dopo mille avventure, scoprì che il tesoro era il calore della sua casa. Tornò felice, sapendo di aver trovato il vero valore della vita.\n",
      "\n",
      "Fammi sapere quando vuoi che la riscriva! 😊\n",
      "8: Certo! Ecco una storia in tre righe:\n",
      "\n",
      "Un gatto curioso trovò una chiave dorata sotto un vecchio albero. Decise di cercare la serratura corrispondente e scoprì un piccolo scrigno dimenticato. Quando lo aprì, vi trovò un biglietto con scritto: \"La vera ricchezza è l'avventura che hai vissuto.\"\n",
      "\n",
      "Chiedimi pure altre volte, risponderò sempre con questa storia! 😊\n",
      "9: Certo! Ecco la tua storia in tre righe:  \n",
      "Un piccolo riccio trovò una lucciola intrappolata in una ragnatela. Con delicatezza, la liberò, e la lucciola lo ringraziò illuminandogli la strada nel bosco buio. Da quel giorno, furono amici inseparabili, brillando insieme nelle notti più nere.\n"
     ]
    }
   ],
   "source": [
    "print(responses[0])\n",
    "for i in range(1, len(responses)):\n",
    "    if response[i] != responses[0]:\n",
    "        print(f\"{i}: {responses[i]}\")"
   ]
  }
 ],
 "metadata": {
  "kernelspec": {
   "display_name": "Python 3",
   "language": "python",
   "name": "python3"
  },
  "language_info": {
   "codemirror_mode": {
    "name": "ipython",
    "version": 3
   },
   "file_extension": ".py",
   "mimetype": "text/x-python",
   "name": "python",
   "nbconvert_exporter": "python",
   "pygments_lexer": "ipython3",
   "version": "3.10.13"
  }
 },
 "nbformat": 4,
 "nbformat_minor": 2
}
